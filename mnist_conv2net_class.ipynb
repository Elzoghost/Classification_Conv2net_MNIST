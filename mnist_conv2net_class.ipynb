{
  "nbformat": 4,
  "nbformat_minor": 0,
  "metadata": {
    "colab": {
      "private_outputs": true,
      "provenance": [],
      "authorship_tag": "ABX9TyOIfReCULF6jb6MOdAhYQxd",
      "include_colab_link": true
    },
    "kernelspec": {
      "name": "python3",
      "display_name": "Python 3"
    },
    "language_info": {
      "name": "python"
    },
    "accelerator": "TPU"
  },
  "cells": [
    {
      "cell_type": "markdown",
      "metadata": {
        "id": "view-in-github",
        "colab_type": "text"
      },
      "source": [
        "<a href=\"https://colab.research.google.com/github/Elzoghost/Classification_Conv2net_MNIST/blob/main/mnist_conv2net_class.ipynb\" target=\"_parent\"><img src=\"https://colab.research.google.com/assets/colab-badge.svg\" alt=\"Open In Colab\"/></a>"
      ]
    },
    {
      "cell_type": "code",
      "source": [
        "# Importation des bibliothèques nécessaires\n",
        "import matplotlib.pyplot as plt\n",
        "import matplotlib_inline\n",
        "import tensorflow as tf\n",
        "from tensorflow.keras import layers, models\n",
        "from tensorflow.keras.datasets import mnist\n",
        "from tensorflow.keras.utils import to_categorical"
      ],
      "metadata": {
        "id": "JL0AVD52EGJ2"
      },
      "execution_count": null,
      "outputs": []
    },
    {
      "cell_type": "code",
      "source": [
        "# Charger le jeu de données MNIST\n",
        "(train_images, train_labels), (test_images, test_labels) = mnist.load_data()"
      ],
      "metadata": {
        "id": "PykwuhseEIXQ"
      },
      "execution_count": null,
      "outputs": []
    },
    {
      "cell_type": "code",
      "source": [
        "# Prétraitement des données\n",
        "train_images = train_images.reshape((60000, 28, 28, 1))\n",
        "test_images = test_images.reshape((10000, 28, 28, 1))\n",
        "train_images = train_images.astype('float32') / 255\n",
        "test_images = test_images.astype('float32') / 255\n",
        "\n",
        "train_labels = to_categorical(train_labels)\n",
        "test_labels = to_categorical(test_labels)"
      ],
      "metadata": {
        "id": "jJbIK66cELLV"
      },
      "execution_count": null,
      "outputs": []
    },
    {
      "cell_type": "code",
      "source": [
        "# Création du modèle CNN\n",
        "# Ajouter des couches convolutives et augmenter la complexité\n",
        "model = models.Sequential()\n",
        "model.add(layers.Conv2D(32, (3, 3), activation='relu', input_shape=(28, 28, 1)))\n",
        "model.add(layers.MaxPooling2D((2, 2)))\n",
        "model.add(layers.Conv2D(64, (3, 3), activation='relu'))\n",
        "model.add(layers.MaxPooling2D((2, 2)))\n",
        "model.add(layers.Conv2D(64, (3, 3), activation='relu'))\n",
        "model.add(layers.Flatten())\n",
        "model.add(layers.Dense(128, activation='relu'))\n",
        "model.add(layers.Dropout(0.5))  # Ajouter de la régularisation Dropout\n",
        "model.add(layers.Dense(10, activation='softmax'))"
      ],
      "metadata": {
        "id": "eMpVTB9kEN6y"
      },
      "execution_count": null,
      "outputs": []
    },
    {
      "cell_type": "code",
      "source": [
        "# Compilation du modèle\n",
        "model.compile(optimizer='adam',\n",
        "              loss='categorical_crossentropy',\n",
        "              metrics=['accuracy'])"
      ],
      "metadata": {
        "id": "4D7EkVVcEQgZ"
      },
      "execution_count": null,
      "outputs": []
    },
    {
      "cell_type": "code",
      "source": [
        "# Entraînement du modèle\n",
        "history = model.fit(train_images, train_labels, epochs=5, batch_size=64, validation_split=0.2)"
      ],
      "metadata": {
        "id": "2Xh03r7gETq0"
      },
      "execution_count": null,
      "outputs": []
    },
    {
      "cell_type": "code",
      "source": [
        "# Évaluation du modèle\n",
        "test_loss, test_acc = model.evaluate(test_images, test_labels)\n",
        "print(f'Accuracy sur le jeu de test : {test_acc}')"
      ],
      "metadata": {
        "id": "jbKJrPhKEVvc"
      },
      "execution_count": null,
      "outputs": []
    },
    {
      "cell_type": "code",
      "execution_count": null,
      "metadata": {
        "id": "YJpPtLHQECDB"
      },
      "outputs": [],
      "source": [
        "# Affichage de l'historique de l'entraînement\n",
        "\n",
        "accuracy = history.history['accuracy']\n",
        "val_accuracy = history.history['val_accuracy']\n",
        "loss = history.history['loss']\n",
        "val_loss = history.history['val_loss']\n",
        "\n",
        "epochs = range(1, len(accuracy) + 1)\n",
        "\n",
        "plt.figure(figsize=(12, 4))\n",
        "plt.subplot(1, 2, 1)\n",
        "plt.plot(epochs, accuracy, 'bo', label='Training accuracy')\n",
        "plt.plot(epochs, val_accuracy, 'b', label='Validation accuracy')\n",
        "plt.title('Training and validation accuracy')\n",
        "plt.xlabel('Epochs')\n",
        "plt.ylabel('Accuracy')\n",
        "plt.legend()\n",
        "\n",
        "plt.subplot(1, 2, 2)\n",
        "plt.plot(epochs, loss, 'bo', label='Training loss')\n",
        "plt.plot(epochs, val_loss, 'b', label='Validation loss')\n",
        "plt.title('Training and validation loss')\n",
        "plt.xlabel('Epochs')\n",
        "plt.ylabel('Loss')\n",
        "plt.legend()\n",
        "\n",
        "plt.show()\n"
      ]
    },
    {
      "cell_type": "code",
      "source": [
        "# chargez votre image ici\n",
        "from google.colab import files\n",
        "uploaded = files.upload()"
      ],
      "metadata": {
        "id": "9-UyHI-1LamW"
      },
      "execution_count": null,
      "outputs": []
    },
    {
      "cell_type": "code",
      "source": [
        "import numpy as np\n",
        "from PIL import Image\n",
        "import matplotlib.pyplot as plt\n",
        "from io import BytesIO\n",
        "\n",
        "# Récupérer les images téléchargées\n",
        "uploaded_images = list(uploaded.values())\n",
        "\n",
        "# Initialiser une liste pour stocker les prédictions\n",
        "predictions = []\n",
        "\n",
        "# Traiter chaque image téléchargée séparément\n",
        "for image_data in uploaded_images:\n",
        "    # Convertir l'image en un objet Image\n",
        "    new_image = Image.open(BytesIO(image_data))\n",
        "\n",
        "    # Prétraitement de l'image\n",
        "    new_image = new_image.convert('L')  # Convertir en niveaux de gris\n",
        "    new_image = new_image.resize((28, 28))  # Redimensionner à 28x28 pixels\n",
        "\n",
        "    # Convertir l'image en un tableau NumPy\n",
        "    new_data = np.array(new_image)\n",
        "\n",
        "    # Prétraitement de l'image\n",
        "    new_data = new_data.reshape((1, 28, 28, 1))\n",
        "    new_data = new_data.astype('float32') / 255\n",
        "\n",
        "    # Faire une prédiction pour cette image\n",
        "    prediction = model.predict(new_data)\n",
        "\n",
        "    # Trouver la classe prédite (chiffre)\n",
        "    predicted_class = np.argmax(prediction)\n",
        "\n",
        "    # Ajouter la prédiction à la liste des prédictions\n",
        "    predictions.append(predicted_class)\n",
        "\n",
        "# Afficher les images et leurs prédictions\n",
        "for i, prediction in enumerate(predictions):\n",
        "    plt.subplot(1, len(predictions), i + 1)\n",
        "    plt.imshow(np.squeeze(new_image), cmap='gray')  # new_image pour afficher l'image originale\n",
        "    plt.title(f'Chiffre prédit : {prediction}')\n",
        "    plt.axis('off')\n",
        "\n",
        "plt.show()\n"
      ],
      "metadata": {
        "id": "jnHJvphROl5A"
      },
      "execution_count": null,
      "outputs": []
    },
    {
      "cell_type": "code",
      "source": [
        "\"\"\"import numpy as np\n",
        "from PIL import Image\n",
        "import matplotlib.pyplot as plt\n",
        "from io import BytesIO\n",
        "\n",
        "# Récupérer l'image téléchargée\n",
        "uploaded_images = list(uploaded.values())  # Convertir le dictionnaire en une liste d'images téléchargées\n",
        "image_data = uploaded_images[0]  # Si vous avez téléchargé une seule image, sinon ajustez l'indice\n",
        "\n",
        "# Convertir l'image en un objet Image\n",
        "new_image = Image.open(BytesIO(image_data))\n",
        "\n",
        "# Reste du code...\n",
        "\n",
        "new_image = new_image.convert('L')  # Convertir en niveaux de gris\n",
        "new_image = new_image.resize((28, 28))  # Redimensionner à 28x28 pixels\n",
        "\n",
        "# Convertir l'image en un tableau NumPy\n",
        "new_data = np.array(new_image)\n",
        "\n",
        "# Prétraitement de l'image\n",
        "new_data = new_data.reshape((1, 28, 28, 1))\n",
        "new_data = new_data.astype('float32') / 255\n",
        "\n",
        "# Faire une prédiction\n",
        "prediction = model.predict(new_data)\n",
        "\n",
        "# Trouver la classe prédite (chiffre)\n",
        "predicted_class = np.argmax(prediction)\n",
        "\n",
        "# Afficher l'image d'origine\n",
        "plt.imshow(np.squeeze(new_data), cmap='gray')\n",
        "plt.title(f'Chiffre prédit : {predicted_class}')\n",
        "plt.show()\n",
        "\n",
        "# Afficher la prédiction\n",
        "print(f'La prédiction est : {predicted_class}')\"\"\"\n"
      ],
      "metadata": {
        "id": "0iXWyro2Y4fM"
      },
      "execution_count": null,
      "outputs": []
    }
  ]
}